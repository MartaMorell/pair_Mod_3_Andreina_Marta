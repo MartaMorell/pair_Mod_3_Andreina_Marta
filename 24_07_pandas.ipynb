{
 "cells": [
  {
   "cell_type": "code",
   "execution_count": 3,
   "id": "19f37070",
   "metadata": {},
   "outputs": [],
   "source": [
    "import pandas as pd"
   ]
  },
  {
   "cell_type": "code",
   "execution_count": 24,
   "id": "ef3c5344",
   "metadata": {},
   "outputs": [],
   "source": [
    "import numpy as np"
   ]
  },
  {
   "cell_type": "markdown",
   "id": "07c1c74a",
   "metadata": {},
   "source": [
    "\n",
    "Crea una serie con números correlativos entre 1 y 12 inclusive (puedes hacerlo como lista o diccionario):\n",
    "\n",
    "Cambia el indice de la serie anteriormente creada para que comience con el numero 20.\n",
    "\n",
    "Nuevamente cambia el indice de la serie, esta vez con una lista que haga referencia a los meses del año (tenemos 12 elementos como la cantidad de meses del año).\n",
    "\n",
    "Muestra los valores que están en la posición 3 y 8 de mi serie.\n",
    "\n",
    "Muestra los valores que están etiquetados en enero y agosto.\n",
    "\n",
    "Muestra sus valores, indices, forma, tamaño y el tipo de elementos de la serie."
   ]
  },
  {
   "cell_type": "code",
   "execution_count": 5,
   "id": "9457690c",
   "metadata": {},
   "outputs": [
    {
     "name": "stdout",
     "output_type": "stream",
     "text": [
      "20     1\n",
      "21     2\n",
      "22     3\n",
      "23     4\n",
      "24     5\n",
      "25     6\n",
      "26     7\n",
      "27     8\n",
      "28     9\n",
      "29    10\n",
      "30    11\n",
      "31    12\n",
      "dtype: int64\n"
     ]
    }
   ],
   "source": [
    "lista = [1,2,3,4,5,6,7,8,9,10,11,12]\n",
    "serie_lista = pd.Series(lista, index=[20, 21, 22, 23, 24, 25, 26, 27, 28, 29, 30, 31])\n",
    "print(serie_lista)"
   ]
  },
  {
   "cell_type": "code",
   "execution_count": 6,
   "id": "a68eb2b2",
   "metadata": {},
   "outputs": [
    {
     "name": "stdout",
     "output_type": "stream",
     "text": [
      "enero          1\n",
      "febrero        2\n",
      "marzo          3\n",
      "abril          4\n",
      "mayo           5\n",
      "junio          6\n",
      "julio          7\n",
      "agosto         8\n",
      "septiembre     9\n",
      "octubre       10\n",
      "noviembre     11\n",
      "diciembre     12\n",
      "dtype: int64\n"
     ]
    }
   ],
   "source": [
    "serie_lista2 = pd.Series(lista, index=['enero', 'febrero', 'marzo', 'abril', 'mayo', 'junio',\n",
    " 'julio', 'agosto', 'septiembre', 'octubre', 'noviembre', 'diciembre'])\n",
    "print(serie_lista2)"
   ]
  },
  {
   "cell_type": "code",
   "execution_count": null,
   "id": "e1366d73",
   "metadata": {},
   "outputs": [
    {
     "data": {
      "text/plain": [
       "abril         4\n",
       "septiembre    9\n",
       "dtype: int64"
      ]
     },
     "execution_count": 8,
     "metadata": {},
     "output_type": "execute_result"
    }
   ],
   "source": [
    "serie_lista2.iloc[[3,8]] ## dos numeros no consecutivos"
   ]
  },
  {
   "cell_type": "code",
   "execution_count": null,
   "id": "77510b86",
   "metadata": {},
   "outputs": [
    {
     "data": {
      "text/plain": [
       "enero     1\n",
       "agosto    8\n",
       "dtype: int64"
      ]
     },
     "execution_count": 11,
     "metadata": {},
     "output_type": "execute_result"
    }
   ],
   "source": [
    "serie_lista2.loc[[\"enero\", \"agosto\"]] ## dos etiquetas no consecutivos"
   ]
  },
  {
   "cell_type": "code",
   "execution_count": 12,
   "id": "a307392f",
   "metadata": {},
   "outputs": [
    {
     "data": {
      "text/plain": [
       "(12,)"
      ]
     },
     "execution_count": 12,
     "metadata": {},
     "output_type": "execute_result"
    }
   ],
   "source": [
    "serie_lista2.shape"
   ]
  },
  {
   "cell_type": "code",
   "execution_count": 13,
   "id": "3181bda7",
   "metadata": {},
   "outputs": [
    {
     "data": {
      "text/plain": [
       "12"
      ]
     },
     "execution_count": 13,
     "metadata": {},
     "output_type": "execute_result"
    }
   ],
   "source": [
    "serie_lista2.size"
   ]
  },
  {
   "cell_type": "code",
   "execution_count": 14,
   "id": "461db213",
   "metadata": {},
   "outputs": [
    {
     "data": {
      "text/plain": [
       "dtype('int64')"
      ]
     },
     "execution_count": 14,
     "metadata": {},
     "output_type": "execute_result"
    }
   ],
   "source": [
    "serie_lista2.dtype"
   ]
  },
  {
   "cell_type": "markdown",
   "id": "c9a89ef0",
   "metadata": {},
   "source": [
    "Abre el fichero de rating-and-performance con el método que sea más correcto. Además muestra las 5 primeras filas del DataFrame.\n",
    "\n",
    "Nota: Tienes el fichero al final de los ejercicios."
   ]
  },
  {
   "cell_type": "code",
   "execution_count": 21,
   "id": "f62c6462",
   "metadata": {},
   "outputs": [
    {
     "data": {
      "text/html": [
       "<div>\n",
       "<style scoped>\n",
       "    .dataframe tbody tr th:only-of-type {\n",
       "        vertical-align: middle;\n",
       "    }\n",
       "\n",
       "    .dataframe tbody tr th {\n",
       "        vertical-align: top;\n",
       "    }\n",
       "\n",
       "    .dataframe thead th {\n",
       "        text-align: right;\n",
       "    }\n",
       "</style>\n",
       "<table border=\"1\" class=\"dataframe\">\n",
       "  <thead>\n",
       "    <tr style=\"text-align: right;\">\n",
       "      <th></th>\n",
       "      <th>title</th>\n",
       "      <th>title_orig</th>\n",
       "      <th>price</th>\n",
       "      <th>retail_price</th>\n",
       "      <th>currency_buyer</th>\n",
       "      <th>units_sold</th>\n",
       "      <th>uses_ad_boosts</th>\n",
       "      <th>rating</th>\n",
       "      <th>rating_count</th>\n",
       "      <th>rating_five_count</th>\n",
       "      <th>...</th>\n",
       "      <th>merchant_rating_count</th>\n",
       "      <th>merchant_rating</th>\n",
       "      <th>merchant_id</th>\n",
       "      <th>merchant_has_profile_picture</th>\n",
       "      <th>merchant_profile_picture</th>\n",
       "      <th>product_url</th>\n",
       "      <th>product_picture</th>\n",
       "      <th>product_id</th>\n",
       "      <th>theme</th>\n",
       "      <th>crawl_month</th>\n",
       "    </tr>\n",
       "    <tr>\n",
       "      <th>index</th>\n",
       "      <th></th>\n",
       "      <th></th>\n",
       "      <th></th>\n",
       "      <th></th>\n",
       "      <th></th>\n",
       "      <th></th>\n",
       "      <th></th>\n",
       "      <th></th>\n",
       "      <th></th>\n",
       "      <th></th>\n",
       "      <th></th>\n",
       "      <th></th>\n",
       "      <th></th>\n",
       "      <th></th>\n",
       "      <th></th>\n",
       "      <th></th>\n",
       "      <th></th>\n",
       "      <th></th>\n",
       "      <th></th>\n",
       "      <th></th>\n",
       "      <th></th>\n",
       "    </tr>\n",
       "  </thead>\n",
       "  <tbody>\n",
       "    <tr>\n",
       "      <th>0</th>\n",
       "      <td>2020 Summer Vintage Flamingo Print  Pajamas Se...</td>\n",
       "      <td>2020 Summer Vintage Flamingo Print  Pajamas Se...</td>\n",
       "      <td>16.00</td>\n",
       "      <td>14</td>\n",
       "      <td>EUR</td>\n",
       "      <td>100</td>\n",
       "      <td>0</td>\n",
       "      <td>3.76</td>\n",
       "      <td>54</td>\n",
       "      <td>26.0</td>\n",
       "      <td>...</td>\n",
       "      <td>568</td>\n",
       "      <td>4.128521</td>\n",
       "      <td>595097d6a26f6e070cb878d1</td>\n",
       "      <td>0</td>\n",
       "      <td>NaN</td>\n",
       "      <td>https://www.wish.com/c/5e9ae51d43d6a96e303acdb0</td>\n",
       "      <td>https://contestimg.wish.com/api/webimage/5e9ae...</td>\n",
       "      <td>5e9ae51d43d6a96e303acdb0</td>\n",
       "      <td>summer</td>\n",
       "      <td>2020-08</td>\n",
       "    </tr>\n",
       "    <tr>\n",
       "      <th>1</th>\n",
       "      <td>SSHOUSE Summer Casual Sleeveless Soirée Party ...</td>\n",
       "      <td>Women's Casual Summer Sleeveless Sexy Mini Dress</td>\n",
       "      <td>8.00</td>\n",
       "      <td>22</td>\n",
       "      <td>EUR</td>\n",
       "      <td>20000</td>\n",
       "      <td>1</td>\n",
       "      <td>3.45</td>\n",
       "      <td>6135</td>\n",
       "      <td>2269.0</td>\n",
       "      <td>...</td>\n",
       "      <td>17752</td>\n",
       "      <td>3.899673</td>\n",
       "      <td>56458aa03a698c35c9050988</td>\n",
       "      <td>0</td>\n",
       "      <td>NaN</td>\n",
       "      <td>https://www.wish.com/c/58940d436a0d3d5da4e95a38</td>\n",
       "      <td>https://contestimg.wish.com/api/webimage/58940...</td>\n",
       "      <td>58940d436a0d3d5da4e95a38</td>\n",
       "      <td>summer</td>\n",
       "      <td>2020-08</td>\n",
       "    </tr>\n",
       "    <tr>\n",
       "      <th>2</th>\n",
       "      <td>2020 Nouvelle Arrivée Femmes Printemps et Été ...</td>\n",
       "      <td>2020 New Arrival Women Spring and Summer Beach...</td>\n",
       "      <td>8.00</td>\n",
       "      <td>43</td>\n",
       "      <td>EUR</td>\n",
       "      <td>100</td>\n",
       "      <td>0</td>\n",
       "      <td>3.57</td>\n",
       "      <td>14</td>\n",
       "      <td>5.0</td>\n",
       "      <td>...</td>\n",
       "      <td>295</td>\n",
       "      <td>3.989831</td>\n",
       "      <td>5d464a1ffdf7bc44ee933c65</td>\n",
       "      <td>0</td>\n",
       "      <td>NaN</td>\n",
       "      <td>https://www.wish.com/c/5ea10e2c617580260d55310a</td>\n",
       "      <td>https://contestimg.wish.com/api/webimage/5ea10...</td>\n",
       "      <td>5ea10e2c617580260d55310a</td>\n",
       "      <td>summer</td>\n",
       "      <td>2020-08</td>\n",
       "    </tr>\n",
       "    <tr>\n",
       "      <th>3</th>\n",
       "      <td>Hot Summer Cool T-shirt pour les femmes Mode T...</td>\n",
       "      <td>Hot Summer Cool T Shirt for Women Fashion Tops...</td>\n",
       "      <td>8.00</td>\n",
       "      <td>8</td>\n",
       "      <td>EUR</td>\n",
       "      <td>5000</td>\n",
       "      <td>1</td>\n",
       "      <td>4.03</td>\n",
       "      <td>579</td>\n",
       "      <td>295.0</td>\n",
       "      <td>...</td>\n",
       "      <td>23832</td>\n",
       "      <td>4.020435</td>\n",
       "      <td>58cfdefdacb37b556efdff7c</td>\n",
       "      <td>0</td>\n",
       "      <td>NaN</td>\n",
       "      <td>https://www.wish.com/c/5cedf17ad1d44c52c59e4aca</td>\n",
       "      <td>https://contestimg.wish.com/api/webimage/5cedf...</td>\n",
       "      <td>5cedf17ad1d44c52c59e4aca</td>\n",
       "      <td>summer</td>\n",
       "      <td>2020-08</td>\n",
       "    </tr>\n",
       "    <tr>\n",
       "      <th>4</th>\n",
       "      <td>Femmes Shorts d'été à lacets taille élastique ...</td>\n",
       "      <td>Women Summer Shorts Lace Up Elastic Waistband ...</td>\n",
       "      <td>2.72</td>\n",
       "      <td>3</td>\n",
       "      <td>EUR</td>\n",
       "      <td>100</td>\n",
       "      <td>1</td>\n",
       "      <td>3.10</td>\n",
       "      <td>20</td>\n",
       "      <td>6.0</td>\n",
       "      <td>...</td>\n",
       "      <td>14482</td>\n",
       "      <td>4.001588</td>\n",
       "      <td>5ab3b592c3911a095ad5dadb</td>\n",
       "      <td>0</td>\n",
       "      <td>NaN</td>\n",
       "      <td>https://www.wish.com/c/5ebf5819ebac372b070b0e70</td>\n",
       "      <td>https://contestimg.wish.com/api/webimage/5ebf5...</td>\n",
       "      <td>5ebf5819ebac372b070b0e70</td>\n",
       "      <td>summer</td>\n",
       "      <td>2020-08</td>\n",
       "    </tr>\n",
       "  </tbody>\n",
       "</table>\n",
       "<p>5 rows × 43 columns</p>\n",
       "</div>"
      ],
      "text/plain": [
       "                                                   title  \\\n",
       "index                                                      \n",
       "0      2020 Summer Vintage Flamingo Print  Pajamas Se...   \n",
       "1      SSHOUSE Summer Casual Sleeveless Soirée Party ...   \n",
       "2      2020 Nouvelle Arrivée Femmes Printemps et Été ...   \n",
       "3      Hot Summer Cool T-shirt pour les femmes Mode T...   \n",
       "4      Femmes Shorts d'été à lacets taille élastique ...   \n",
       "\n",
       "                                              title_orig  price  retail_price  \\\n",
       "index                                                                           \n",
       "0      2020 Summer Vintage Flamingo Print  Pajamas Se...  16.00            14   \n",
       "1       Women's Casual Summer Sleeveless Sexy Mini Dress   8.00            22   \n",
       "2      2020 New Arrival Women Spring and Summer Beach...   8.00            43   \n",
       "3      Hot Summer Cool T Shirt for Women Fashion Tops...   8.00             8   \n",
       "4      Women Summer Shorts Lace Up Elastic Waistband ...   2.72             3   \n",
       "\n",
       "      currency_buyer  units_sold  uses_ad_boosts  rating  rating_count  \\\n",
       "index                                                                    \n",
       "0                EUR         100               0    3.76            54   \n",
       "1                EUR       20000               1    3.45          6135   \n",
       "2                EUR         100               0    3.57            14   \n",
       "3                EUR        5000               1    4.03           579   \n",
       "4                EUR         100               1    3.10            20   \n",
       "\n",
       "       rating_five_count  ...  merchant_rating_count  merchant_rating  \\\n",
       "index                     ...                                           \n",
       "0                   26.0  ...                    568         4.128521   \n",
       "1                 2269.0  ...                  17752         3.899673   \n",
       "2                    5.0  ...                    295         3.989831   \n",
       "3                  295.0  ...                  23832         4.020435   \n",
       "4                    6.0  ...                  14482         4.001588   \n",
       "\n",
       "                    merchant_id  merchant_has_profile_picture  \\\n",
       "index                                                           \n",
       "0      595097d6a26f6e070cb878d1                             0   \n",
       "1      56458aa03a698c35c9050988                             0   \n",
       "2      5d464a1ffdf7bc44ee933c65                             0   \n",
       "3      58cfdefdacb37b556efdff7c                             0   \n",
       "4      5ab3b592c3911a095ad5dadb                             0   \n",
       "\n",
       "       merchant_profile_picture  \\\n",
       "index                             \n",
       "0                           NaN   \n",
       "1                           NaN   \n",
       "2                           NaN   \n",
       "3                           NaN   \n",
       "4                           NaN   \n",
       "\n",
       "                                           product_url  \\\n",
       "index                                                    \n",
       "0      https://www.wish.com/c/5e9ae51d43d6a96e303acdb0   \n",
       "1      https://www.wish.com/c/58940d436a0d3d5da4e95a38   \n",
       "2      https://www.wish.com/c/5ea10e2c617580260d55310a   \n",
       "3      https://www.wish.com/c/5cedf17ad1d44c52c59e4aca   \n",
       "4      https://www.wish.com/c/5ebf5819ebac372b070b0e70   \n",
       "\n",
       "                                         product_picture  \\\n",
       "index                                                      \n",
       "0      https://contestimg.wish.com/api/webimage/5e9ae...   \n",
       "1      https://contestimg.wish.com/api/webimage/58940...   \n",
       "2      https://contestimg.wish.com/api/webimage/5ea10...   \n",
       "3      https://contestimg.wish.com/api/webimage/5cedf...   \n",
       "4      https://contestimg.wish.com/api/webimage/5ebf5...   \n",
       "\n",
       "                     product_id   theme crawl_month  \n",
       "index                                                \n",
       "0      5e9ae51d43d6a96e303acdb0  summer     2020-08  \n",
       "1      58940d436a0d3d5da4e95a38  summer     2020-08  \n",
       "2      5ea10e2c617580260d55310a  summer     2020-08  \n",
       "3      5cedf17ad1d44c52c59e4aca  summer     2020-08  \n",
       "4      5ebf5819ebac372b070b0e70  summer     2020-08  \n",
       "\n",
       "[5 rows x 43 columns]"
      ]
     },
     "execution_count": 21,
     "metadata": {},
     "output_type": "execute_result"
    }
   ],
   "source": [
    "df_jobs = pd.read_csv(\"rating-and-performance.csv\", index_col = 0)\n",
    "df_jobs.head()"
   ]
  },
  {
   "cell_type": "markdown",
   "id": "0d2d54e2",
   "metadata": {},
   "source": [
    "Cread una nueva columna donde tengamos la diferencia entre el precio al que vende el e-commerce menos el precio del minorista. Insertad esta columna en la posición dos."
   ]
  },
  {
   "cell_type": "code",
   "execution_count": null,
   "id": "77ca1087",
   "metadata": {},
   "outputs": [],
   "source": [
    "diferencia = df_jobs"
   ]
  },
  {
   "cell_type": "code",
   "execution_count": 26,
   "id": "61e88af2",
   "metadata": {},
   "outputs": [
    {
     "ename": "TypeError",
     "evalue": "unsupported operand type(s) for -: 'str' and 'str'",
     "output_type": "error",
     "traceback": [
      "\u001b[1;31m---------------------------------------------------------------------------\u001b[0m",
      "\u001b[1;31mTypeError\u001b[0m                                 Traceback (most recent call last)",
      "Cell \u001b[1;32mIn[26], line 1\u001b[0m\n\u001b[1;32m----> 1\u001b[0m df_jobs\u001b[38;5;241m.\u001b[39minsert(\u001b[38;5;241m2\u001b[39m, \u001b[38;5;124m\"\u001b[39m\u001b[38;5;124mdiferencia\u001b[39m\u001b[38;5;124m\"\u001b[39m, (\u001b[38;5;124m\"\u001b[39m\u001b[38;5;124mprice\u001b[39m\u001b[38;5;124m\"\u001b[39m \u001b[38;5;241m-\u001b[39m \u001b[38;5;124m\"\u001b[39m\u001b[38;5;124mretail_price\u001b[39m\u001b[38;5;124m\"\u001b[39m))\n",
      "\u001b[1;31mTypeError\u001b[0m: unsupported operand type(s) for -: 'str' and 'str'"
     ]
    }
   ],
   "source": [
    "df_jobs.insert(2, \"diferencia\", (\"price\" - \"retail_price\"))\n"
   ]
  },
  {
   "cell_type": "code",
   "execution_count": null,
   "id": "cdcf2045",
   "metadata": {},
   "outputs": [],
   "source": [
    "df_jobs"
   ]
  }
 ],
 "metadata": {
  "kernelspec": {
   "display_name": "base",
   "language": "python",
   "name": "python3"
  },
  "language_info": {
   "codemirror_mode": {
    "name": "ipython",
    "version": 3
   },
   "file_extension": ".py",
   "mimetype": "text/x-python",
   "name": "python",
   "nbconvert_exporter": "python",
   "pygments_lexer": "ipython3",
   "version": "3.12.9"
  }
 },
 "nbformat": 4,
 "nbformat_minor": 5
}
