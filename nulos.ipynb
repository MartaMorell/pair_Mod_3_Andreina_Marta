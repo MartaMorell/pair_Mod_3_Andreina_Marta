{
 "cells": [
  {
   "cell_type": "code",
   "execution_count": 1,
   "id": "2b572a6a",
   "metadata": {},
   "outputs": [
    {
     "name": "stdout",
     "output_type": "stream",
     "text": [
      "Requirement already satisfied: seaborn in c:\\users\\aniet\\anaconda3\\lib\\site-packages (0.13.2)\n",
      "Requirement already satisfied: numpy!=1.24.0,>=1.20 in c:\\users\\aniet\\anaconda3\\lib\\site-packages (from seaborn) (1.26.4)\n",
      "Requirement already satisfied: pandas>=1.2 in c:\\users\\aniet\\anaconda3\\lib\\site-packages (from seaborn) (2.2.3)\n",
      "Requirement already satisfied: matplotlib!=3.6.1,>=3.4 in c:\\users\\aniet\\anaconda3\\lib\\site-packages (from seaborn) (3.9.2)\n",
      "Requirement already satisfied: contourpy>=1.0.1 in c:\\users\\aniet\\anaconda3\\lib\\site-packages (from matplotlib!=3.6.1,>=3.4->seaborn) (1.2.0)\n",
      "Requirement already satisfied: cycler>=0.10 in c:\\users\\aniet\\anaconda3\\lib\\site-packages (from matplotlib!=3.6.1,>=3.4->seaborn) (0.11.0)\n",
      "Requirement already satisfied: fonttools>=4.22.0 in c:\\users\\aniet\\anaconda3\\lib\\site-packages (from matplotlib!=3.6.1,>=3.4->seaborn) (4.51.0)\n",
      "Requirement already satisfied: kiwisolver>=1.3.1 in c:\\users\\aniet\\anaconda3\\lib\\site-packages (from matplotlib!=3.6.1,>=3.4->seaborn) (1.4.4)\n",
      "Requirement already satisfied: packaging>=20.0 in c:\\users\\aniet\\anaconda3\\lib\\site-packages (from matplotlib!=3.6.1,>=3.4->seaborn) (24.1)\n",
      "Requirement already satisfied: pillow>=8 in c:\\users\\aniet\\anaconda3\\lib\\site-packages (from matplotlib!=3.6.1,>=3.4->seaborn) (10.4.0)\n",
      "Requirement already satisfied: pyparsing>=2.3.1 in c:\\users\\aniet\\anaconda3\\lib\\site-packages (from matplotlib!=3.6.1,>=3.4->seaborn) (3.1.2)\n",
      "Requirement already satisfied: python-dateutil>=2.7 in c:\\users\\aniet\\anaconda3\\lib\\site-packages (from matplotlib!=3.6.1,>=3.4->seaborn) (2.9.0.post0)\n",
      "Requirement already satisfied: pytz>=2020.1 in c:\\users\\aniet\\anaconda3\\lib\\site-packages (from pandas>=1.2->seaborn) (2024.1)\n",
      "Requirement already satisfied: tzdata>=2022.7 in c:\\users\\aniet\\anaconda3\\lib\\site-packages (from pandas>=1.2->seaborn) (2023.3)\n",
      "Requirement already satisfied: six>=1.5 in c:\\users\\aniet\\anaconda3\\lib\\site-packages (from python-dateutil>=2.7->matplotlib!=3.6.1,>=3.4->seaborn) (1.16.0)\n",
      "Note: you may need to restart the kernel to use updated packages.\n"
     ]
    }
   ],
   "source": [
    "pip install seaborn"
   ]
  },
  {
   "cell_type": "code",
   "execution_count": 2,
   "id": "87ef5d1b",
   "metadata": {},
   "outputs": [
    {
     "name": "stdout",
     "output_type": "stream",
     "text": [
      "Requirement already satisfied: matplotlib in c:\\users\\aniet\\anaconda3\\lib\\site-packages (3.9.2)\n",
      "Requirement already satisfied: contourpy>=1.0.1 in c:\\users\\aniet\\anaconda3\\lib\\site-packages (from matplotlib) (1.2.0)\n",
      "Requirement already satisfied: cycler>=0.10 in c:\\users\\aniet\\anaconda3\\lib\\site-packages (from matplotlib) (0.11.0)\n",
      "Requirement already satisfied: fonttools>=4.22.0 in c:\\users\\aniet\\anaconda3\\lib\\site-packages (from matplotlib) (4.51.0)\n",
      "Requirement already satisfied: kiwisolver>=1.3.1 in c:\\users\\aniet\\anaconda3\\lib\\site-packages (from matplotlib) (1.4.4)\n",
      "Requirement already satisfied: numpy>=1.23 in c:\\users\\aniet\\anaconda3\\lib\\site-packages (from matplotlib) (1.26.4)\n",
      "Requirement already satisfied: packaging>=20.0 in c:\\users\\aniet\\anaconda3\\lib\\site-packages (from matplotlib) (24.1)\n",
      "Requirement already satisfied: pillow>=8 in c:\\users\\aniet\\anaconda3\\lib\\site-packages (from matplotlib) (10.4.0)\n",
      "Requirement already satisfied: pyparsing>=2.3.1 in c:\\users\\aniet\\anaconda3\\lib\\site-packages (from matplotlib) (3.1.2)\n",
      "Requirement already satisfied: python-dateutil>=2.7 in c:\\users\\aniet\\anaconda3\\lib\\site-packages (from matplotlib) (2.9.0.post0)\n",
      "Requirement already satisfied: six>=1.5 in c:\\users\\aniet\\anaconda3\\lib\\site-packages (from python-dateutil>=2.7->matplotlib) (1.16.0)\n",
      "Note: you may need to restart the kernel to use updated packages.\n"
     ]
    }
   ],
   "source": [
    "pip install matplotlib"
   ]
  },
  {
   "cell_type": "code",
   "execution_count": 3,
   "id": "6bcc15f7",
   "metadata": {},
   "outputs": [],
   "source": [
    "import pandas as pd"
   ]
  },
  {
   "cell_type": "code",
   "execution_count": 4,
   "id": "baf85c7c",
   "metadata": {},
   "outputs": [],
   "source": [
    "import numpy as np"
   ]
  },
  {
   "cell_type": "code",
   "execution_count": 11,
   "id": "1a411d12",
   "metadata": {},
   "outputs": [],
   "source": [
    "pd.set_option('display.max_columns', None) "
   ]
  },
  {
   "cell_type": "code",
   "execution_count": null,
   "id": "35e5b76d",
   "metadata": {},
   "outputs": [
    {
     "ename": "ImportError",
     "evalue": "IterativeImputer is experimental and the API might change without any deprecation cycle. To use it, you need to explicitly import enable_iterative_imputer:\nfrom sklearn.experimental import enable_iterative_imputer",
     "output_type": "error",
     "traceback": [
      "\u001b[1;31m---------------------------------------------------------------------------\u001b[0m",
      "\u001b[1;31mImportError\u001b[0m                               Traceback (most recent call last)",
      "Cell \u001b[1;32mIn[10], line 2\u001b[0m\n\u001b[0;32m      1\u001b[0m \u001b[38;5;28;01mfrom\u001b[39;00m \u001b[38;5;21;01msklearn\u001b[39;00m\u001b[38;5;21;01m.\u001b[39;00m\u001b[38;5;21;01mimpute\u001b[39;00m \u001b[38;5;28;01mimport\u001b[39;00m SimpleImputer\n\u001b[1;32m----> 2\u001b[0m \u001b[38;5;28;01mfrom\u001b[39;00m \u001b[38;5;21;01msklearn\u001b[39;00m\u001b[38;5;21;01m.\u001b[39;00m\u001b[38;5;21;01mimpute\u001b[39;00m \u001b[38;5;28;01mimport\u001b[39;00m IterativeImputer\n\u001b[0;32m      3\u001b[0m \u001b[38;5;28;01mfrom\u001b[39;00m \u001b[38;5;21;01msklearn\u001b[39;00m\u001b[38;5;21;01m.\u001b[39;00m\u001b[38;5;21;01mimpute\u001b[39;00m \u001b[38;5;28;01mimport\u001b[39;00m KNNImputer\n\u001b[0;32m      4\u001b[0m \u001b[38;5;28;01mfrom\u001b[39;00m \u001b[38;5;21;01msklearn\u001b[39;00m\u001b[38;5;21;01m.\u001b[39;00m\u001b[38;5;21;01mexperimental\u001b[39;00m \u001b[38;5;28;01mimport\u001b[39;00m enable_iterative_imputer\n",
      "File \u001b[1;32mc:\\Users\\aniet\\anaconda3\\Lib\\site-packages\\sklearn\\impute\\__init__.py:19\u001b[0m, in \u001b[0;36m__getattr__\u001b[1;34m(name)\u001b[0m\n\u001b[0;32m     17\u001b[0m \u001b[38;5;28;01mdef\u001b[39;00m \u001b[38;5;21m__getattr__\u001b[39m(name):\n\u001b[0;32m     18\u001b[0m     \u001b[38;5;28;01mif\u001b[39;00m name \u001b[38;5;241m==\u001b[39m \u001b[38;5;124m\"\u001b[39m\u001b[38;5;124mIterativeImputer\u001b[39m\u001b[38;5;124m\"\u001b[39m:\n\u001b[1;32m---> 19\u001b[0m         \u001b[38;5;28;01mraise\u001b[39;00m \u001b[38;5;167;01mImportError\u001b[39;00m(\n\u001b[0;32m     20\u001b[0m             \u001b[38;5;124mf\u001b[39m\u001b[38;5;124m\"\u001b[39m\u001b[38;5;132;01m{\u001b[39;00mname\u001b[38;5;132;01m}\u001b[39;00m\u001b[38;5;124m is experimental and the API might change without any \u001b[39m\u001b[38;5;124m\"\u001b[39m\n\u001b[0;32m     21\u001b[0m             \u001b[38;5;124m\"\u001b[39m\u001b[38;5;124mdeprecation cycle. To use it, you need to explicitly import \u001b[39m\u001b[38;5;124m\"\u001b[39m\n\u001b[0;32m     22\u001b[0m             \u001b[38;5;124m\"\u001b[39m\u001b[38;5;124menable_iterative_imputer:\u001b[39m\u001b[38;5;130;01m\\n\u001b[39;00m\u001b[38;5;124m\"\u001b[39m\n\u001b[0;32m     23\u001b[0m             \u001b[38;5;124m\"\u001b[39m\u001b[38;5;124mfrom sklearn.experimental import enable_iterative_imputer\u001b[39m\u001b[38;5;124m\"\u001b[39m\n\u001b[0;32m     24\u001b[0m         )\n\u001b[0;32m     25\u001b[0m     \u001b[38;5;28;01mraise\u001b[39;00m \u001b[38;5;167;01mAttributeError\u001b[39;00m(\u001b[38;5;124mf\u001b[39m\u001b[38;5;124m\"\u001b[39m\u001b[38;5;124mmodule \u001b[39m\u001b[38;5;132;01m{\u001b[39;00m\u001b[38;5;18m__name__\u001b[39m\u001b[38;5;132;01m}\u001b[39;00m\u001b[38;5;124m has no attribute \u001b[39m\u001b[38;5;132;01m{\u001b[39;00mname\u001b[38;5;132;01m}\u001b[39;00m\u001b[38;5;124m\"\u001b[39m)\n",
      "\u001b[1;31mImportError\u001b[0m: IterativeImputer is experimental and the API might change without any deprecation cycle. To use it, you need to explicitly import enable_iterative_imputer:\nfrom sklearn.experimental import enable_iterative_imputer"
     ]
    }
   ],
   "source": [
    "from sklearn.impute import SimpleImputer\n",
    "from sklearn.impute import IterativeImputer\n",
    "from sklearn.impute import KNNImputer\n",
    "## from sklearn.experimental import enable_iterative_imputer"
   ]
  },
  {
   "cell_type": "markdown",
   "id": "a6039be5",
   "metadata": {},
   "source": [
    "\n",
    "Cargad el csv.\n",
    "\n",
    "¿Qué columnas tienen nulos?\n",
    "\n",
    "Explorad los nulos que hay en el DataFrame.\n",
    "\n",
    "Con lo aprendido en la lección de hoy gestiona los nulos de la forma que consideres más correcta.\n",
    "\n",
    "Guarda el csv con las columnas sin nulos."
   ]
  },
  {
   "cell_type": "code",
   "execution_count": 12,
   "id": "b0fba37e",
   "metadata": {},
   "outputs": [
    {
     "data": {
      "text/html": [
       "<div>\n",
       "<style scoped>\n",
       "    .dataframe tbody tr th:only-of-type {\n",
       "        vertical-align: middle;\n",
       "    }\n",
       "\n",
       "    .dataframe tbody tr th {\n",
       "        vertical-align: top;\n",
       "    }\n",
       "\n",
       "    .dataframe thead th {\n",
       "        text-align: right;\n",
       "    }\n",
       "</style>\n",
       "<table border=\"1\" class=\"dataframe\">\n",
       "  <thead>\n",
       "    <tr style=\"text-align: right;\">\n",
       "      <th></th>\n",
       "      <th>title</th>\n",
       "      <th>price</th>\n",
       "      <th>retail_price</th>\n",
       "      <th>units_sold</th>\n",
       "      <th>uses_ad_boosts</th>\n",
       "      <th>rating_sold</th>\n",
       "      <th>rating_count</th>\n",
       "      <th>rating_five_count</th>\n",
       "      <th>rating_four_count</th>\n",
       "      <th>rating_three_count</th>\n",
       "      <th>rating_two_count</th>\n",
       "      <th>rating_one_count</th>\n",
       "      <th>badge_local_product</th>\n",
       "      <th>badge_product_quality</th>\n",
       "      <th>badge_fast_shipping</th>\n",
       "      <th>tags</th>\n",
       "      <th>product_color</th>\n",
       "      <th>product_variation_size_id</th>\n",
       "      <th>shipping_option_name</th>\n",
       "      <th>shipping_option_price</th>\n",
       "      <th>shipping_is_express</th>\n",
       "      <th>countries_shipped_to</th>\n",
       "      <th>inventory_total</th>\n",
       "      <th>origin_country</th>\n",
       "      <th>merchant_name</th>\n",
       "      <th>merchant_info_subtitle</th>\n",
       "      <th>merchant_rating_count</th>\n",
       "      <th>merchant_id</th>\n",
       "      <th>product_url</th>\n",
       "      <th>product_id</th>\n",
       "      <th>listed_products</th>\n",
       "      <th>total_units_sold</th>\n",
       "      <th>mean_units_sold_per_product</th>\n",
       "      <th>rating_employee</th>\n",
       "      <th>merchant_ratings_count</th>\n",
       "      <th>mean_product_prices</th>\n",
       "      <th>mean_retail_prices</th>\n",
       "      <th>mean_product_ratings_count</th>\n",
       "      <th>discount_percentage</th>\n",
       "      <th>seller_reputation</th>\n",
       "    </tr>\n",
       "  </thead>\n",
       "  <tbody>\n",
       "    <tr>\n",
       "      <th>0</th>\n",
       "      <td>2020 Summer Vintage Flamingo Print  Pajamas Se...</td>\n",
       "      <td>16.0</td>\n",
       "      <td>14</td>\n",
       "      <td>100</td>\n",
       "      <td>No</td>\n",
       "      <td>3.76</td>\n",
       "      <td>54</td>\n",
       "      <td>26.0</td>\n",
       "      <td>8.0</td>\n",
       "      <td>10.0</td>\n",
       "      <td>1.0</td>\n",
       "      <td>9.0</td>\n",
       "      <td>No</td>\n",
       "      <td>Buena</td>\n",
       "      <td>No</td>\n",
       "      <td>Summer,Fashion,womenunderwearsuit,printedpajam...</td>\n",
       "      <td>white</td>\n",
       "      <td>M</td>\n",
       "      <td>Livraison standard</td>\n",
       "      <td>4</td>\n",
       "      <td>No</td>\n",
       "      <td>34</td>\n",
       "      <td>50</td>\n",
       "      <td>CN</td>\n",
       "      <td>zgrdejia</td>\n",
       "      <td>NaN</td>\n",
       "      <td>568</td>\n",
       "      <td>595097d6a26f6e070cb878d1</td>\n",
       "      <td>https://www.wish.com/c/5e9ae51d43d6a96e303acdb0</td>\n",
       "      <td>5e9ae51d43d6a96e303acdb0</td>\n",
       "      <td>1</td>\n",
       "      <td>100</td>\n",
       "      <td>100.0</td>\n",
       "      <td>4.129</td>\n",
       "      <td>568.0</td>\n",
       "      <td>16.0</td>\n",
       "      <td>14.0</td>\n",
       "      <td>54.0</td>\n",
       "      <td>14.29</td>\n",
       "      <td>Buena</td>\n",
       "    </tr>\n",
       "  </tbody>\n",
       "</table>\n",
       "</div>"
      ],
      "text/plain": [
       "                                               title  price  retail_price  \\\n",
       "0  2020 Summer Vintage Flamingo Print  Pajamas Se...   16.0            14   \n",
       "\n",
       "   units_sold uses_ad_boosts  rating_sold  rating_count  rating_five_count  \\\n",
       "0         100             No         3.76            54               26.0   \n",
       "\n",
       "   rating_four_count  rating_three_count  rating_two_count  rating_one_count  \\\n",
       "0                8.0                10.0               1.0               9.0   \n",
       "\n",
       "  badge_local_product badge_product_quality badge_fast_shipping  \\\n",
       "0                  No                 Buena                  No   \n",
       "\n",
       "                                                tags product_color  \\\n",
       "0  Summer,Fashion,womenunderwearsuit,printedpajam...         white   \n",
       "\n",
       "  product_variation_size_id shipping_option_name  shipping_option_price  \\\n",
       "0                         M   Livraison standard                      4   \n",
       "\n",
       "  shipping_is_express  countries_shipped_to  inventory_total origin_country  \\\n",
       "0                  No                    34               50             CN   \n",
       "\n",
       "  merchant_name merchant_info_subtitle  merchant_rating_count  \\\n",
       "0      zgrdejia                    NaN                    568   \n",
       "\n",
       "                merchant_id                                      product_url  \\\n",
       "0  595097d6a26f6e070cb878d1  https://www.wish.com/c/5e9ae51d43d6a96e303acdb0   \n",
       "\n",
       "                 product_id  listed_products  total_units_sold  \\\n",
       "0  5e9ae51d43d6a96e303acdb0                1               100   \n",
       "\n",
       "   mean_units_sold_per_product  rating_employee  merchant_ratings_count  \\\n",
       "0                        100.0            4.129                   568.0   \n",
       "\n",
       "   mean_product_prices  mean_retail_prices  mean_product_ratings_count  \\\n",
       "0                 16.0                14.0                        54.0   \n",
       "\n",
       "   discount_percentage seller_reputation  \n",
       "0                14.29             Buena  "
      ]
     },
     "execution_count": 12,
     "metadata": {},
     "output_type": "execute_result"
    }
   ],
   "source": [
    "df = pd.read_csv(\"merchant_ejercicios_apply.csv\", index_col=0)\n",
    "df.head(1)"
   ]
  },
  {
   "cell_type": "code",
   "execution_count": 16,
   "id": "3f5e67ce",
   "metadata": {},
   "outputs": [
    {
     "name": "stdout",
     "output_type": "stream",
     "text": [
      "<class 'pandas.core.frame.DataFrame'>\n",
      "Index: 1573 entries, 0 to 1572\n",
      "Data columns (total 40 columns):\n",
      " #   Column                       Non-Null Count  Dtype  \n",
      "---  ------                       --------------  -----  \n",
      " 0   title                        1573 non-null   object \n",
      " 1   price                        1573 non-null   float64\n",
      " 2   retail_price                 1573 non-null   int64  \n",
      " 3   units_sold                   1573 non-null   int64  \n",
      " 4   uses_ad_boosts               1573 non-null   object \n",
      " 5   rating_sold                  1573 non-null   float64\n",
      " 6   rating_count                 1573 non-null   int64  \n",
      " 7   rating_five_count            1528 non-null   float64\n",
      " 8   rating_four_count            1528 non-null   float64\n",
      " 9   rating_three_count           1528 non-null   float64\n",
      " 10  rating_two_count             1528 non-null   float64\n",
      " 11  rating_one_count             1528 non-null   float64\n",
      " 12  badge_local_product          1573 non-null   object \n",
      " 13  badge_product_quality        1573 non-null   object \n",
      " 14  badge_fast_shipping          1573 non-null   object \n",
      " 15  tags                         1573 non-null   object \n",
      " 16  product_color                1532 non-null   object \n",
      " 17  product_variation_size_id    1559 non-null   object \n",
      " 18  shipping_option_name         1573 non-null   object \n",
      " 19  shipping_option_price        1573 non-null   int64  \n",
      " 20  shipping_is_express          1573 non-null   object \n",
      " 21  countries_shipped_to         1573 non-null   int64  \n",
      " 22  inventory_total              1573 non-null   int64  \n",
      " 23  origin_country               1556 non-null   object \n",
      " 24  merchant_name                1569 non-null   object \n",
      " 25  merchant_info_subtitle       1279 non-null   object \n",
      " 26  merchant_rating_count        1573 non-null   int64  \n",
      " 27  merchant_id                  1573 non-null   object \n",
      " 28  product_url                  1573 non-null   object \n",
      " 29  product_id                   1573 non-null   object \n",
      " 30  listed_products              1573 non-null   int64  \n",
      " 31  total_units_sold             1573 non-null   int64  \n",
      " 32  mean_units_sold_per_product  1573 non-null   float64\n",
      " 33  rating_employee              1573 non-null   float64\n",
      " 34  merchant_ratings_count       1573 non-null   float64\n",
      " 35  mean_product_prices          1573 non-null   float64\n",
      " 36  mean_retail_prices           1573 non-null   float64\n",
      " 37  mean_product_ratings_count   1573 non-null   float64\n",
      " 38  discount_percentage          1573 non-null   float64\n",
      " 39  seller_reputation            1573 non-null   object \n",
      "dtypes: float64(14), int64(9), object(17)\n",
      "memory usage: 503.9+ KB\n"
     ]
    }
   ],
   "source": [
    "df.info()"
   ]
  },
  {
   "cell_type": "code",
   "execution_count": 17,
   "id": "11853a26",
   "metadata": {},
   "outputs": [
    {
     "data": {
      "text/plain": [
       "(1573, 40)"
      ]
     },
     "execution_count": 17,
     "metadata": {},
     "output_type": "execute_result"
    }
   ],
   "source": [
    "df.shape"
   ]
  },
  {
   "cell_type": "code",
   "execution_count": 14,
   "id": "a40c3163",
   "metadata": {},
   "outputs": [
    {
     "data": {
      "text/plain": [
       "title                            0\n",
       "price                            0\n",
       "retail_price                     0\n",
       "units_sold                       0\n",
       "uses_ad_boosts                   0\n",
       "rating_sold                      0\n",
       "rating_count                     0\n",
       "rating_five_count               45\n",
       "rating_four_count               45\n",
       "rating_three_count              45\n",
       "rating_two_count                45\n",
       "rating_one_count                45\n",
       "badge_local_product              0\n",
       "badge_product_quality            0\n",
       "badge_fast_shipping              0\n",
       "tags                             0\n",
       "product_color                   41\n",
       "product_variation_size_id       14\n",
       "shipping_option_name             0\n",
       "shipping_option_price            0\n",
       "shipping_is_express              0\n",
       "countries_shipped_to             0\n",
       "inventory_total                  0\n",
       "origin_country                  17\n",
       "merchant_name                    4\n",
       "merchant_info_subtitle         294\n",
       "merchant_rating_count            0\n",
       "merchant_id                      0\n",
       "product_url                      0\n",
       "product_id                       0\n",
       "listed_products                  0\n",
       "total_units_sold                 0\n",
       "mean_units_sold_per_product      0\n",
       "rating_employee                  0\n",
       "merchant_ratings_count           0\n",
       "mean_product_prices              0\n",
       "mean_retail_prices               0\n",
       "mean_product_ratings_count       0\n",
       "discount_percentage              0\n",
       "seller_reputation                0\n",
       "dtype: int64"
      ]
     },
     "execution_count": 14,
     "metadata": {},
     "output_type": "execute_result"
    }
   ],
   "source": [
    "df.isnull().sum()"
   ]
  },
  {
   "cell_type": "code",
   "execution_count": 18,
   "id": "bf881567",
   "metadata": {},
   "outputs": [
    {
     "data": {
      "text/plain": [
       "merchant_info_subtitle         18.69\n",
       "rating_five_count               2.86\n",
       "rating_four_count               2.86\n",
       "rating_three_count              2.86\n",
       "rating_two_count                2.86\n",
       "rating_one_count                2.86\n",
       "product_color                   2.61\n",
       "origin_country                  1.08\n",
       "product_variation_size_id       0.89\n",
       "merchant_name                   0.25\n",
       "listed_products                 0.00\n",
       "merchant_rating_count           0.00\n",
       "merchant_id                     0.00\n",
       "product_url                     0.00\n",
       "product_id                      0.00\n",
       "title                           0.00\n",
       "total_units_sold                0.00\n",
       "mean_units_sold_per_product     0.00\n",
       "merchant_ratings_count          0.00\n",
       "mean_product_prices             0.00\n",
       "mean_retail_prices              0.00\n",
       "mean_product_ratings_count      0.00\n",
       "discount_percentage             0.00\n",
       "rating_employee                 0.00\n",
       "shipping_is_express             0.00\n",
       "inventory_total                 0.00\n",
       "countries_shipped_to            0.00\n",
       "price                           0.00\n",
       "shipping_option_price           0.00\n",
       "shipping_option_name            0.00\n",
       "tags                            0.00\n",
       "badge_fast_shipping             0.00\n",
       "badge_product_quality           0.00\n",
       "badge_local_product             0.00\n",
       "rating_count                    0.00\n",
       "rating_sold                     0.00\n",
       "uses_ad_boosts                  0.00\n",
       "units_sold                      0.00\n",
       "retail_price                    0.00\n",
       "seller_reputation               0.00\n",
       "dtype: float64"
      ]
     },
     "execution_count": 18,
     "metadata": {},
     "output_type": "execute_result"
    }
   ],
   "source": [
    "round((df.isnull().sum() / df.shape[0]) * 100, 2).sort_values(ascending=False)"
   ]
  },
  {
   "cell_type": "code",
   "execution_count": 19,
   "id": "90956083",
   "metadata": {},
   "outputs": [
    {
     "data": {
      "text/plain": [
       "0                          NaN\n",
       "1          83 % avis positifs \n",
       "2          83 % avis positifs \n",
       "3       83% Positive Feedback \n",
       "4          83 % avis positifs \n",
       "                 ...          \n",
       "1568                       NaN\n",
       "1569       89 % avis positifs \n",
       "1570       75 % avis positifs \n",
       "1571       86 % avis positifs \n",
       "1572       90 % avis positifs \n",
       "Name: merchant_info_subtitle, Length: 1573, dtype: object"
      ]
     },
     "execution_count": 19,
     "metadata": {},
     "output_type": "execute_result"
    }
   ],
   "source": [
    "df[\"merchant_info_subtitle\"]"
   ]
  },
  {
   "cell_type": "code",
   "execution_count": 20,
   "id": "b699b9ff",
   "metadata": {},
   "outputs": [
    {
     "data": {
      "text/plain": [
       "0    86 % avis positifs \n",
       "Name: merchant_info_subtitle, dtype: object"
      ]
     },
     "execution_count": 20,
     "metadata": {},
     "output_type": "execute_result"
    }
   ],
   "source": [
    "df[\"merchant_info_subtitle\"].mode()"
   ]
  },
  {
   "cell_type": "markdown",
   "id": "023e8614",
   "metadata": {},
   "source": [
    "eliminar todos los NaN y ver si esos eran todos lo nulos"
   ]
  },
  {
   "cell_type": "markdown",
   "id": "77bf1d83",
   "metadata": {},
   "source": [
    "tarda más: quitar letras con limpieza, y luego siendo numérica sustituir por media"
   ]
  }
 ],
 "metadata": {
  "kernelspec": {
   "display_name": "base",
   "language": "python",
   "name": "python3"
  },
  "language_info": {
   "codemirror_mode": {
    "name": "ipython",
    "version": 3
   },
   "file_extension": ".py",
   "mimetype": "text/x-python",
   "name": "python",
   "nbconvert_exporter": "python",
   "pygments_lexer": "ipython3",
   "version": "3.12.9"
  }
 },
 "nbformat": 4,
 "nbformat_minor": 5
}
