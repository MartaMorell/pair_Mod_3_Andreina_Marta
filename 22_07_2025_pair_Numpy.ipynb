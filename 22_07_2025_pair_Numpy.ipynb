{
 "cells": [
  {
   "cell_type": "markdown",
   "id": "33b6e02a",
   "metadata": {},
   "source": [
    "1. Genera un array bidimensional de 4 x 3 con valores aleatorios enteros entre el 34 y el 98. Una vez creado cada array comprueba las dimensiones y los tipos de datos que tenemos en el array."
   ]
  },
  {
   "cell_type": "code",
   "execution_count": 1,
   "id": "bdd706d6",
   "metadata": {},
   "outputs": [
    {
     "name": "stdout",
     "output_type": "stream",
     "text": [
      "Requirement already satisfied: numpy in c:\\users\\aniet\\anaconda3\\lib\\site-packages (1.26.4)\n"
     ]
    }
   ],
   "source": [
    "!pip install numpy"
   ]
  },
  {
   "cell_type": "code",
   "execution_count": 2,
   "id": "df365bd6",
   "metadata": {},
   "outputs": [],
   "source": [
    "import numpy as np"
   ]
  },
  {
   "cell_type": "code",
   "execution_count": 3,
   "id": "9c02cd35",
   "metadata": {},
   "outputs": [
    {
     "name": "stdout",
     "output_type": "stream",
     "text": [
      "Array aleatorio:\n",
      " [[87 81 71]\n",
      " [77 44 54]\n",
      " [51 40 38]\n",
      " [91 61 79]]\n"
     ]
    }
   ],
   "source": [
    "array_bidimensional = np.random.randint(34, 99, size=(4, 3))  # sitaxis (low, hig, size, dtype) ???????\n",
    "print(\"Array aleatorio:\\n\", array_bidimensional)"
   ]
  },
  {
   "cell_type": "code",
   "execution_count": 4,
   "id": "0f55bab5",
   "metadata": {},
   "outputs": [
    {
     "name": "stdout",
     "output_type": "stream",
     "text": [
      "Número de dimensiones (ndim): 2\n",
      "Tipo de datos (dtype): int32\n"
     ]
    }
   ],
   "source": [
    "print(\"Número de dimensiones (ndim):\",array_bidimensional.ndim)\n",
    "print(\"Tipo de datos (dtype):\", array_bidimensional.dtype)"
   ]
  },
  {
   "cell_type": "markdown",
   "id": "3deb536a",
   "metadata": {},
   "source": [
    "2. Crea dos arrays (unidimensional, bidimensional) usando el método np.array().\n",
    "\n",
    "Las listas para crear los arrays son las siguientes"
   ]
  },
  {
   "cell_type": "code",
   "execution_count": 5,
   "id": "5349021f",
   "metadata": {},
   "outputs": [],
   "source": [
    "lista1 = [34,56,71,98, 10]\n",
    "lista2 = [[23,45,89, 56], [12,43,82,44]]"
   ]
  },
  {
   "cell_type": "code",
   "execution_count": 6,
   "id": "1a737a3f",
   "metadata": {},
   "outputs": [],
   "source": [
    "array1D = np.array(lista1)"
   ]
  },
  {
   "cell_type": "code",
   "execution_count": 7,
   "id": "9e19727b",
   "metadata": {},
   "outputs": [
    {
     "data": {
      "text/plain": [
       "array([34, 56, 71, 98, 10])"
      ]
     },
     "execution_count": 7,
     "metadata": {},
     "output_type": "execute_result"
    }
   ],
   "source": [
    "array1D"
   ]
  },
  {
   "cell_type": "code",
   "execution_count": 8,
   "id": "9b5c2b99",
   "metadata": {},
   "outputs": [],
   "source": [
    "array2D = np.array(lista2)"
   ]
  },
  {
   "cell_type": "code",
   "execution_count": 9,
   "id": "7f65b1b7",
   "metadata": {},
   "outputs": [
    {
     "data": {
      "text/plain": [
       "array([[23, 45, 89, 56],\n",
       "       [12, 43, 82, 44]])"
      ]
     },
     "execution_count": 9,
     "metadata": {},
     "output_type": "execute_result"
    }
   ],
   "source": [
    "array2D"
   ]
  },
  {
   "cell_type": "markdown",
   "id": "f9c8696b",
   "metadata": {},
   "source": [
    "3. Crea un array unidimensional con 50 elementos con el método que prefieras y extrae:\n",
    "\n",
    "El primer elemento.\n",
    "\n",
    "Lo elementos que están en posición impar.\n",
    "\n",
    "Los cuatro primeros elementos.\n",
    "\n",
    "Los últimos tres elementos.\n",
    "\n",
    "Los elementos entre el 4 y el 8 (incluido)."
   ]
  },
  {
   "cell_type": "code",
   "execution_count": 10,
   "id": "7c84b7d5",
   "metadata": {},
   "outputs": [
    {
     "name": "stdout",
     "output_type": "stream",
     "text": [
      "Array arange(50):\n",
      "[ 0  1  2  3  4  5  6  7  8  9 10 11 12 13 14 15 16 17 18 19 20 21 22 23\n",
      " 24 25 26 27 28 29 30 31 32 33 34 35 36 37 38 39 40 41 42 43 44 45 46 47\n",
      " 48 49]\n",
      "\n"
     ]
    }
   ],
   "source": [
    "array_50 = np.arange(50)    #### BUSCAR OTRO MÉTODO \n",
    "print(f\"Array arange(50):\\n{array_50}\\n\")"
   ]
  },
  {
   "cell_type": "code",
   "execution_count": 11,
   "id": "62148e19",
   "metadata": {},
   "outputs": [
    {
     "name": "stdout",
     "output_type": "stream",
     "text": [
      "Primer elemento del array_50: 0\n"
     ]
    }
   ],
   "source": [
    "print(\"Primer elemento del array_50:\", array_50[0])"
   ]
  },
  {
   "cell_type": "code",
   "execution_count": 12,
   "id": "be6d9a3f",
   "metadata": {},
   "outputs": [
    {
     "name": "stdout",
     "output_type": "stream",
     "text": [
      "Elementos en posición impar array_50: [ 1  3  5  7  9 11 13 15 17 19 21 23 25 27 29 31 33 35 37 39 41 43 45 47\n",
      " 49]\n"
     ]
    }
   ],
   "source": [
    "print(\"Elementos en posición impar array_50:\", array_50[1::2])  ## SIN COMAS PARA INDICAR UNA DIMENSIÓN. el salto lo marca :2"
   ]
  },
  {
   "cell_type": "code",
   "execution_count": 13,
   "id": "5d9c1432",
   "metadata": {},
   "outputs": [
    {
     "name": "stdout",
     "output_type": "stream",
     "text": [
      "1\n"
     ]
    }
   ],
   "source": [
    "print(array_50.ndim)"
   ]
  },
  {
   "cell_type": "code",
   "execution_count": 14,
   "id": "b0cab03e",
   "metadata": {},
   "outputs": [
    {
     "name": "stdout",
     "output_type": "stream",
     "text": [
      "Primeros tres elementos de array_50: [0 1 2 3]\n"
     ]
    }
   ],
   "source": [
    "print(\"Primeros tres elementos de array_50:\", array_50[:4])"
   ]
  },
  {
   "cell_type": "code",
   "execution_count": 15,
   "id": "2be08fb0",
   "metadata": {},
   "outputs": [
    {
     "name": "stdout",
     "output_type": "stream",
     "text": [
      "Elementos en posición impar array_50: [47 48 49]\n"
     ]
    }
   ],
   "source": [
    "print(\"Elementos en posición impar array_50:\", array_50[-3::])"
   ]
  },
  {
   "cell_type": "code",
   "execution_count": 16,
   "id": "1aaf93e6",
   "metadata": {},
   "outputs": [
    {
     "name": "stdout",
     "output_type": "stream",
     "text": [
      "Elementos en posición impar array_50: [3 4 5 6 7 8]\n"
     ]
    }
   ],
   "source": [
    "print(\"Elementos en posición impar array_50:\", array_50[3:9])"
   ]
  },
  {
   "cell_type": "markdown",
   "id": "501da7d7",
   "metadata": {},
   "source": [
    "4. Crea un array de dos dimensiones de 4 x 5 con el método que prefieras y extrae:\n",
    "\n",
    "La primera fila y todas las columnas.\n",
    "\n",
    "Todas las filas pares.\n",
    "\n",
    "La primera columna y todas las filas"
   ]
  },
  {
   "cell_type": "code",
   "execution_count": 17,
   "id": "5290413a",
   "metadata": {},
   "outputs": [
    {
     "name": "stdout",
     "output_type": "stream",
     "text": [
      "Array bidimensional 2:\n",
      " [[81 70 59 98 95]\n",
      " [61 43 40 86 86]\n",
      " [53 63 98 95 50]\n",
      " [81 90 40 76 82]]\n"
     ]
    }
   ],
   "source": [
    "array_bidimensional_2 = np.random.randint(34, 99, size=(4, 5))  # sitaxis (low, hig, size, dtype) ???????\n",
    "print(\"Array bidimensional 2:\\n\", array_bidimensional_2)"
   ]
  },
  {
   "cell_type": "code",
   "execution_count": 18,
   "id": "8df24d18",
   "metadata": {},
   "outputs": [
    {
     "data": {
      "text/plain": [
       "array([81, 70, 59, 98, 95])"
      ]
     },
     "execution_count": 18,
     "metadata": {},
     "output_type": "execute_result"
    }
   ],
   "source": [
    "# primera fila y todas las columnas:\n",
    "\n",
    "array_bidimensional_2[0, :]"
   ]
  },
  {
   "cell_type": "code",
   "execution_count": 19,
   "id": "dc0bebfe",
   "metadata": {},
   "outputs": [
    {
     "data": {
      "text/plain": [
       "array([[81, 59, 95],\n",
       "       [61, 40, 86],\n",
       "       [53, 98, 50],\n",
       "       [81, 40, 82]])"
      ]
     },
     "execution_count": 19,
     "metadata": {},
     "output_type": "execute_result"
    }
   ],
   "source": [
    "# Todas las filas pares\n",
    "array_bidimensional_2[:,::2]"
   ]
  },
  {
   "cell_type": "code",
   "execution_count": 20,
   "id": "700cd8fa",
   "metadata": {},
   "outputs": [
    {
     "data": {
      "text/plain": [
       "array([[81, 70, 59, 98, 95],\n",
       "       [53, 63, 98, 95, 50]])"
      ]
     },
     "execution_count": 20,
     "metadata": {},
     "output_type": "execute_result"
    }
   ],
   "source": [
    "array_bidimensional_2[::2]"
   ]
  },
  {
   "cell_type": "code",
   "execution_count": 21,
   "id": "88a0f8c0",
   "metadata": {},
   "outputs": [
    {
     "data": {
      "text/plain": [
       "array([[81, 70, 59, 98, 95],\n",
       "       [53, 63, 98, 95, 50]])"
      ]
     },
     "execution_count": 21,
     "metadata": {},
     "output_type": "execute_result"
    }
   ],
   "source": [
    "array_bidimensional_2[::2, ::]  #::2, en el eje de las filas, selecciona una sí, una no: emieza en la fila 0, luego la 2, 4 etc..\n",
    "# :: en el eje de las columnas, selecciona todas las columnas sin saltos."
   ]
  },
  {
   "cell_type": "code",
   "execution_count": 22,
   "id": "ef8c8f0f",
   "metadata": {},
   "outputs": [
    {
     "data": {
      "text/plain": [
       "array([[81, 70, 59, 98, 95],\n",
       "       [61, 43, 40, 86, 86],\n",
       "       [53, 63, 98, 95, 50],\n",
       "       [81, 90, 40, 76, 82]])"
      ]
     },
     "execution_count": 22,
     "metadata": {},
     "output_type": "execute_result"
    }
   ],
   "source": [
    "array_bidimensional_2"
   ]
  },
  {
   "cell_type": "code",
   "execution_count": 23,
   "id": "dcaec09d",
   "metadata": {},
   "outputs": [
    {
     "data": {
      "text/plain": [
       "array([81, 61, 53, 81])"
      ]
     },
     "execution_count": 23,
     "metadata": {},
     "output_type": "execute_result"
    }
   ],
   "source": [
    "# La primera columna y todas las filas\n",
    "array_bidimensional_2[:, 0]"
   ]
  },
  {
   "cell_type": "markdown",
   "id": "1e43f50d",
   "metadata": {},
   "source": [
    "5. Crea un array bidimensional con 20 elementos aleatrorios entre 0 y 50 con el método que prefieras y:\n",
    "\n",
    "Crea una mascara o filtro donde los valores mayores a 30 y menores a 10 se reemplace por \"objetivo\" y el resto por \"no es mi objetivo\".\n",
    "\n",
    "Los valores de mi array bidimensional multiplicalos por el escalar 10."
   ]
  },
  {
   "cell_type": "code",
   "execution_count": 24,
   "id": "c3941aa1",
   "metadata": {},
   "outputs": [
    {
     "name": "stdout",
     "output_type": "stream",
     "text": [
      "Array bidimensional 20:\n",
      " [[15 40 36  3 23]\n",
      " [43  5 40 44 44]\n",
      " [ 5 36 28 19  3]\n",
      " [48 27 28 30 41]]\n"
     ]
    }
   ],
   "source": [
    "array_bidimensional_20 = np.random.randint(0, 51, size=(4, 5))  # sitaxis (low, hig, size, dtype) ???????\n",
    "print(\"Array bidimensional 20:\\n\", array_bidimensional_20)"
   ]
  },
  {
   "cell_type": "code",
   "execution_count": 25,
   "id": "2eec1a69",
   "metadata": {},
   "outputs": [
    {
     "data": {
      "text/plain": [
       "array([['no es mi objetivo', 'objetivo', 'objetivo', 'objetivo',\n",
       "        'no es mi objetivo'],\n",
       "       ['objetivo', 'objetivo', 'objetivo', 'objetivo', 'objetivo'],\n",
       "       ['objetivo', 'objetivo', 'no es mi objetivo', 'no es mi objetivo',\n",
       "        'objetivo'],\n",
       "       ['objetivo', 'no es mi objetivo', 'no es mi objetivo',\n",
       "        'no es mi objetivo', 'objetivo']], dtype='<U17')"
      ]
     },
     "execution_count": 25,
     "metadata": {},
     "output_type": "execute_result"
    }
   ],
   "source": [
    "# Crea una mascara o filtro donde los valores mayores a 30 y menores a 10 se reemplace por \"objetivo\" y el resto por \"no es mi objetivo\"\n",
    "mascara = np.where((array_bidimensional_20 > 30) | (array_bidimensional_20 < 10), \"objetivo\", \"no es mi objetivo\")\n",
    "mascara"
   ]
  },
  {
   "cell_type": "code",
   "execution_count": 40,
   "id": "42c794f1",
   "metadata": {},
   "outputs": [
    {
     "data": {
      "text/plain": [
       "array([[150, 400, 360,  30, 230],\n",
       "       [430,  50, 400, 440, 440],\n",
       "       [ 50, 360, 280, 190,  30],\n",
       "       [480, 270, 280, 300, 410]])"
      ]
     },
     "execution_count": 40,
     "metadata": {},
     "output_type": "execute_result"
    }
   ],
   "source": [
    "# Los valores de mi array bidimensional multiplicalos por el escalar 10.\n",
    "escalar = 10\n",
    "array_bidimensional_20 * escalar\n",
    "\n"
   ]
  },
  {
   "cell_type": "markdown",
   "id": "a817b40c",
   "metadata": {},
   "source": [
    "6. Crea un nuevo array de dos dimensiones con la misma forma que el anterior y con el método que prefieras y realiza lo siguiente:\n",
    "\n",
    "Suma el primer array con el segundo.\n",
    "\n",
    "Aplicar la potencia para el primer array elevado al segundo."
   ]
  },
  {
   "cell_type": "code",
   "execution_count": 41,
   "id": "074d3989",
   "metadata": {},
   "outputs": [
    {
     "name": "stdout",
     "output_type": "stream",
     "text": [
      "Array bidimensional 101:\n",
      " [[13 87 49 74 66]\n",
      " [75  3 23 41 18]\n",
      " [10 96 57 41 21]\n",
      " [54 90 10 44 99]]\n"
     ]
    }
   ],
   "source": [
    "array_bidimensional_101 = np.random.randint(0, 101, size=(4, 5))  # sitaxis (low, hig, size, dtype) ???????\n",
    "print(\"Array bidimensional 101:\\n\", array_bidimensional_101)"
   ]
  },
  {
   "cell_type": "code",
   "execution_count": 43,
   "id": "57777a67",
   "metadata": {},
   "outputs": [
    {
     "name": "stdout",
     "output_type": "stream",
     "text": [
      "[[ 28 127  85  77  89]\n",
      " [118   8  63  85  62]\n",
      " [ 15 132  85  60  24]\n",
      " [102 117  38  74 140]]\n"
     ]
    }
   ],
   "source": [
    "# Suma el primer array con el segundo.\n",
    "np.add(array_bidimensional_20, array_bidimensional_101)\n",
    "suma = (array_bidimensional_101 + array_bidimensional_20)\n",
    "print(suma)"
   ]
  },
  {
   "cell_type": "code",
   "execution_count": 29,
   "id": "e57bd183",
   "metadata": {},
   "outputs": [
    {
     "data": {
      "text/plain": [
       "array([[ -639314417,   671088640,           0, -1669737407,  -312445961],\n",
       "       [ -225877909,  -613187947,   631242752,           0,           0],\n",
       "       [  -99612771,           0, -1073741824,   454459353,  1870418611],\n",
       "       [          0,  -869015695,           0,           0,   622828497]])"
      ]
     },
     "execution_count": 29,
     "metadata": {},
     "output_type": "execute_result"
    }
   ],
   "source": [
    "# Aplicar la potencia para el primer array elevado al segundo.    ??????????????????????????????????\n",
    "potencia = np.power(array_bidimensional_20, array_bidimensional_101)\n",
    "potencia"
   ]
  },
  {
   "cell_type": "markdown",
   "id": "43c5d572",
   "metadata": {},
   "source": [
    "\n",
    "## 7Crea un array, puede ser bidimensional! Eso si, los valores tienen que estar entre 0-100\n",
    "\n",
    "Calcula:\n",
    "\n",
    "La media de los elementos\n",
    "\n",
    "La media de las columnas y redondéalo a dos decimales\n",
    "\n",
    "El valor máximo de cada fila\n",
    "\n",
    "El valor mínimo de cada fila\n",
    "\n",
    "Hay algun valor que sea mayor que 90 en tu array\n",
    "\n",
    "Donde los podemos encontrar, cuáles son sus índices\n",
    "\n",
    "Ordena el array de mayor a menor"
   ]
  },
  {
   "cell_type": "code",
   "execution_count": 30,
   "id": "0798feec",
   "metadata": {},
   "outputs": [
    {
     "name": "stdout",
     "output_type": "stream",
     "text": [
      "Array bidimensional 101:\n",
      " [[10 70 62 33 20]\n",
      " [51 57 76 75 67]\n",
      " [75 63 76 15 30]\n",
      " [76  1 10  0  4]]\n"
     ]
    }
   ],
   "source": [
    "array_bidimensional_101 = np.random.randint(0, 101, size=(4, 5))  # sitaxis (low, hig, size, dtype) ???????\n",
    "print(\"Array bidimensional 101:\\n\", array_bidimensional_101)"
   ]
  },
  {
   "cell_type": "code",
   "execution_count": 31,
   "id": "8362ede8",
   "metadata": {},
   "outputs": [
    {
     "data": {
      "text/plain": [
       "43.55"
      ]
     },
     "execution_count": 31,
     "metadata": {},
     "output_type": "execute_result"
    }
   ],
   "source": [
    "# La media de los elementos\n",
    "array_bidimensional_101_media = np.mean(array_bidimensional_101)\n",
    "array_bidimensional_101_media"
   ]
  },
  {
   "cell_type": "code",
   "execution_count": 32,
   "id": "55422b46",
   "metadata": {},
   "outputs": [
    {
     "data": {
      "text/plain": [
       "array([53.  , 47.75, 56.  , 30.75, 30.25])"
      ]
     },
     "execution_count": 32,
     "metadata": {},
     "output_type": "execute_result"
    }
   ],
   "source": [
    "# La media de las columnas y redondéalo a dos decimales\n",
    "#axis = 0; columnas\n",
    "#axis =1; filas\n",
    "array_bidimensional_101_media_columnas = array_bidimensional_101.mean(axis=0)\n",
    "array_bidimensional_101_media_columnas"
   ]
  },
  {
   "cell_type": "code",
   "execution_count": 33,
   "id": "9cc95073",
   "metadata": {},
   "outputs": [
    {
     "data": {
      "text/plain": [
       "array([53.  , 47.75, 56.  , 30.75, 30.25])"
      ]
     },
     "execution_count": 33,
     "metadata": {},
     "output_type": "execute_result"
    }
   ],
   "source": [
    "redondear_array_bidimensional_101_decimales = array_bidimensional_101_media_columnas.round(2) # ??????????\n",
    "redondear_array_bidimensional_101_decimales"
   ]
  },
  {
   "cell_type": "code",
   "execution_count": 34,
   "id": "0b109385",
   "metadata": {},
   "outputs": [
    {
     "data": {
      "text/plain": [
       "array([70, 76, 76, 76])"
      ]
     },
     "execution_count": 34,
     "metadata": {},
     "output_type": "execute_result"
    }
   ],
   "source": [
    "# El valor máximo de cada fila\n",
    "array_bidimensional_101_max = array_bidimensional_101.max(axis=1)\n",
    "array_bidimensional_101_max\n"
   ]
  },
  {
   "cell_type": "code",
   "execution_count": 35,
   "id": "ea8df4e0",
   "metadata": {},
   "outputs": [
    {
     "data": {
      "text/plain": [
       "array([10, 51, 15,  0])"
      ]
     },
     "execution_count": 35,
     "metadata": {},
     "output_type": "execute_result"
    }
   ],
   "source": [
    "# El valor mínimo de cada fila\n",
    "array_bidimensional_101_min = array_bidimensional_101.min(axis=1)\n",
    "array_bidimensional_101_min"
   ]
  },
  {
   "cell_type": "code",
   "execution_count": 36,
   "id": "35e4dee6",
   "metadata": {},
   "outputs": [
    {
     "data": {
      "text/plain": [
       "array([], dtype=int32)"
      ]
     },
     "execution_count": 36,
     "metadata": {},
     "output_type": "execute_result"
    }
   ],
   "source": [
    "# Hay algun valor que sea mayor que 90 en tu array\n",
    "array_bidimensional_101_90 = array_bidimensional_101[array_bidimensional_101 > 90] \n",
    "array_bidimensional_101_90"
   ]
  },
  {
   "cell_type": "code",
   "execution_count": 37,
   "id": "1894f2c8",
   "metadata": {},
   "outputs": [
    {
     "name": "stdout",
     "output_type": "stream",
     "text": [
      "Índices donde los valores son mayores a 90: (array([], dtype=int64), array([], dtype=int64))\n"
     ]
    }
   ],
   "source": [
    "# Donde los podemos encontrar, cuáles son sus índices\n",
    "indices_mayores_90 = np.where(array_bidimensional_101 > 90)\n",
    "print(\"Índices donde los valores son mayores a 90:\", indices_mayores_90)"
   ]
  },
  {
   "cell_type": "code",
   "execution_count": 38,
   "id": "648ef0b6",
   "metadata": {},
   "outputs": [
    {
     "data": {
      "text/plain": [
       "array([[10, 20, 33, 62, 70],\n",
       "       [51, 57, 67, 75, 76],\n",
       "       [15, 30, 63, 75, 76],\n",
       "       [ 0,  1,  4, 10, 76]])"
      ]
     },
     "execution_count": 38,
     "metadata": {},
     "output_type": "execute_result"
    }
   ],
   "source": [
    "# Ordena el array de menor a mayor\n",
    "ordenado = np.sort(array_bidimensional_101) # Por defecto ordena por filas\n",
    "ordenado"
   ]
  },
  {
   "cell_type": "code",
   "execution_count": 39,
   "id": "753b3760",
   "metadata": {},
   "outputs": [
    {
     "data": {
      "text/plain": [
       "array([[70, 62, 33, 20, 10],\n",
       "       [76, 75, 67, 57, 51],\n",
       "       [76, 75, 63, 30, 15],\n",
       "       [76, 10,  4,  1,  0]])"
      ]
     },
     "execution_count": 39,
     "metadata": {},
     "output_type": "execute_result"
    }
   ],
   "source": [
    "# Primero le ordenamos y luego le damos la vuelta\n",
    "ordenado[:, ::-1] # todas las filas, todas las columnas, en pasos de -1"
   ]
  }
 ],
 "metadata": {
  "kernelspec": {
   "display_name": "base",
   "language": "python",
   "name": "python3"
  },
  "language_info": {
   "codemirror_mode": {
    "name": "ipython",
    "version": 3
   },
   "file_extension": ".py",
   "mimetype": "text/x-python",
   "name": "python",
   "nbconvert_exporter": "python",
   "pygments_lexer": "ipython3",
   "version": "3.12.9"
  }
 },
 "nbformat": 4,
 "nbformat_minor": 5
}
